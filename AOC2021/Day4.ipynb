{
 "cells": [
  {
   "cell_type": "code",
   "execution_count": 1,
   "metadata": {},
   "outputs": [],
   "source": [
    "import numpy as np"
   ]
  },
  {
   "cell_type": "code",
   "execution_count": 2,
   "metadata": {},
   "outputs": [
    {
     "data": {
      "text/plain": [
       "0"
      ]
     },
     "execution_count": 2,
     "metadata": {},
     "output_type": "execute_result"
    }
   ],
   "source": [
    "data = open('puzzle.txt','r')\n",
    "\n",
    "data.seek(0)"
   ]
  },
  {
   "cell_type": "code",
   "execution_count": 3,
   "metadata": {},
   "outputs": [],
   "source": [
    "data.seek(0)\n",
    "arrayList = []\n",
    "for i in data.readlines():\n",
    "    i = i.strip('\\n')\n",
    "    if(i != '\\n'):\n",
    "        i = i.split(' ')\n",
    "        arrayList.append(i)\n",
    "\n",
    "for i in range(len(arrayList)):\n",
    "    if arrayList[i] == '':\n",
    "        arrayList.remove(i)\n",
    "    for j in arrayList[i]:\n",
    "        if j == '':\n",
    "            arrayList[i].remove(j)\n",
    "arrayList = [x for x in arrayList if x]\n"
   ]
  },
  {
   "cell_type": "code",
   "execution_count": 4,
   "metadata": {},
   "outputs": [
    {
     "data": {
      "text/plain": [
       "array([[[14, 86, 50, 89, 49],\n",
       "        [10, 85, 33, 46, 87],\n",
       "        [82, 91, 54, 13, 90],\n",
       "        [63, 88, 75, 99, 79],\n",
       "        [74, 31,  4,  0, 71]],\n",
       "\n",
       "       [[56,  3, 70,  2, 22],\n",
       "        [44, 63, 10, 95,  8],\n",
       "        [92, 62, 83,  4, 93],\n",
       "        [74, 80,  5, 11, 68],\n",
       "        [24, 50, 42, 65, 72]],\n",
       "\n",
       "       [[42, 21, 72, 26,  7],\n",
       "        [ 4, 78,  1, 49, 50],\n",
       "        [93, 43, 38, 71, 68],\n",
       "        [62, 52, 40, 61, 82],\n",
       "        [31, 28, 16, 96, 18]],\n",
       "\n",
       "       ...,\n",
       "\n",
       "       [[73, 37, 66, 67, 19],\n",
       "        [16, 79, 15, 45, 89],\n",
       "        [84, 78, 69, 28, 46],\n",
       "        [17,  4, 12, 95, 87],\n",
       "        [49, 99, 31,  9, 36]],\n",
       "\n",
       "       [[61, 34, 98, 60, 74],\n",
       "        [30, 95, 33, 46, 64],\n",
       "        [73, 97, 12, 26,  7],\n",
       "        [ 2, 58, 49, 70, 54],\n",
       "        [80, 55, 94, 91, 11]],\n",
       "\n",
       "       [[27,  5,  3, 62, 49],\n",
       "        [38, 88, 40,  9, 47],\n",
       "        [29, 59, 94, 74, 12],\n",
       "        [48, 73, 85, 97, 35],\n",
       "        [28, 25, 30, 14, 83]]])"
      ]
     },
     "execution_count": 4,
     "metadata": {},
     "output_type": "execute_result"
    }
   ],
   "source": [
    "A = np.array(arrayList,dtype=np.int64).reshape(2500,)\n",
    "A = A.reshape(100,5,5)\n",
    "A\n"
   ]
  },
  {
   "cell_type": "code",
   "execution_count": 5,
   "metadata": {},
   "outputs": [
    {
     "data": {
      "text/plain": [
       "array([13, 79, 74, 35, 76, 12, 43, 71, 87, 72, 23, 91, 31, 67, 58, 61, 96,\n",
       "       16, 81, 92, 41,  6, 32, 86, 77, 42,  0, 55, 68, 14, 53, 26, 25, 11,\n",
       "       45, 94, 75,  1, 93, 83, 52,  7,  4, 22, 34, 64, 69, 88, 65, 66, 39,\n",
       "       97, 27, 29, 78,  5, 49, 82, 54, 46, 51, 28, 98, 36, 48, 15,  2, 50,\n",
       "       38, 24, 89, 59,  8,  3, 18, 47, 10, 90, 21, 80, 73, 33, 85, 62, 19,\n",
       "       37, 57, 95, 60, 20, 99, 17, 63, 56, 84, 44, 40, 70,  9, 30])"
      ]
     },
     "execution_count": 5,
     "metadata": {},
     "output_type": "execute_result"
    }
   ],
   "source": [
    "\n",
    "with open('puzzle_1.txt', 'r') as inp:\n",
    "    b = np.array(inp.read().strip('\\n').split(','),dtype=np.int64)\n",
    "b\n",
    "\n"
   ]
  },
  {
   "cell_type": "code",
   "execution_count": 9,
   "metadata": {},
   "outputs": [],
   "source": [
    "index = 0\n",
    "marked = list()\n",
    "for bindex in b[index:index+5]:\n",
    "    for i in range(0,len(A)):\n",
    "        for j in range(0, len(A[0])):\n",
    "            for i in range(len(marked)):\n",
    "                marked.pop(i)\n",
    "            for k in A[j,]:\n",
    "                if bindex == k.any():\n",
    "                    marked.append(k)\n",
    "                    if len(marked) == 5:\n",
    "                        print((np.sum(A[i]) - np.sum(A[j,]))*marked[-1])\n",
    "                \n"
   ]
  },
  {
   "cell_type": "code",
   "execution_count": 27,
   "metadata": {},
   "outputs": [
    {
     "name": "stdout",
     "output_type": "stream",
     "text": [
      "0\n",
      "351\n",
      "-546\n",
      "-1508\n",
      "1404\n",
      "871\n",
      "0\n",
      "-1482\n",
      "-234\n",
      "-429\n",
      "1885\n",
      "1703\n",
      "0\n",
      "208\n",
      "1612\n",
      "-1222\n",
      "-169\n",
      "-104\n",
      "0\n",
      "-624\n",
      "-2418\n",
      "-2015\n",
      "-598\n",
      "-1612\n",
      "0\n"
     ]
    },
    {
     "ename": "IndexError",
     "evalue": "index 5 is out of bounds for axis 0 with size 5",
     "output_type": "error",
     "traceback": [
      "\u001b[0;31m---------------------------------------------------------------------------\u001b[0m",
      "\u001b[0;31mIndexError\u001b[0m                                Traceback (most recent call last)",
      "\u001b[0;32m/var/folders/5w/ng1cwvn928b7ds9hxvsbgkkw0000gn/T/ipykernel_1141/2622034966.py\u001b[0m in \u001b[0;36m<module>\u001b[0;34m\u001b[0m\n\u001b[1;32m      5\u001b[0m         \u001b[0mrow\u001b[0m \u001b[0;34m=\u001b[0m \u001b[0;36m0\u001b[0m\u001b[0;34m\u001b[0m\u001b[0;34m\u001b[0m\u001b[0m\n\u001b[1;32m      6\u001b[0m         \u001b[0;32mfor\u001b[0m \u001b[0mj\u001b[0m \u001b[0;32min\u001b[0m \u001b[0mrange\u001b[0m\u001b[0;34m(\u001b[0m\u001b[0mlen\u001b[0m\u001b[0;34m(\u001b[0m\u001b[0mA\u001b[0m\u001b[0;34m[\u001b[0m\u001b[0mi\u001b[0m\u001b[0;34m,\u001b[0m\u001b[0;34m]\u001b[0m\u001b[0;34m)\u001b[0m\u001b[0;34m)\u001b[0m\u001b[0;34m:\u001b[0m\u001b[0;34m\u001b[0m\u001b[0;34m\u001b[0m\u001b[0m\n\u001b[0;32m----> 7\u001b[0;31m             \u001b[0mprint\u001b[0m\u001b[0;34m(\u001b[0m\u001b[0;34m(\u001b[0m\u001b[0mnp\u001b[0m\u001b[0;34m.\u001b[0m\u001b[0msum\u001b[0m\u001b[0;34m(\u001b[0m\u001b[0mM\u001b[0m\u001b[0;34m[\u001b[0m\u001b[0mi\u001b[0m\u001b[0;34m]\u001b[0m\u001b[0;34m)\u001b[0m \u001b[0;34m-\u001b[0m \u001b[0mnp\u001b[0m\u001b[0;34m.\u001b[0m\u001b[0msum\u001b[0m\u001b[0;34m(\u001b[0m\u001b[0mM\u001b[0m\u001b[0;34m[\u001b[0m\u001b[0mj\u001b[0m\u001b[0;34m,\u001b[0m\u001b[0;34m]\u001b[0m\u001b[0;34m)\u001b[0m\u001b[0;34m)\u001b[0m\u001b[0;34m*\u001b[0m\u001b[0mindex\u001b[0m\u001b[0;34m)\u001b[0m\u001b[0;34m\u001b[0m\u001b[0;34m\u001b[0m\u001b[0m\n\u001b[0m\u001b[1;32m      8\u001b[0m             \u001b[0;32mfor\u001b[0m \u001b[0mk\u001b[0m \u001b[0;32min\u001b[0m \u001b[0mM\u001b[0m\u001b[0;34m[\u001b[0m\u001b[0mj\u001b[0m\u001b[0;34m,\u001b[0m\u001b[0;34m]\u001b[0m\u001b[0;34m:\u001b[0m\u001b[0;34m\u001b[0m\u001b[0;34m\u001b[0m\u001b[0m\n\u001b[1;32m      9\u001b[0m                 \u001b[0;32mif\u001b[0m \u001b[0mindex\u001b[0m \u001b[0;34m==\u001b[0m \u001b[0mk\u001b[0m\u001b[0;34m:\u001b[0m\u001b[0;34m\u001b[0m\u001b[0;34m\u001b[0m\u001b[0m\n",
      "\u001b[0;31mIndexError\u001b[0m: index 5 is out of bounds for axis 0 with size 5"
     ]
    }
   ],
   "source": [
    "marked = list()\n",
    "for index in b:\n",
    "    for i in range(0,len(A)):\n",
    "        M = np.array(A[i])\n",
    "        row = 0\n",
    "        for j in range(len(A[i,])):\n",
    "            print((np.sum(M[i]) - np.sum(M[j,]))*index)\n",
    "            for k in M[j,]:\n",
    "                if index == k:\n",
    "                    row += 1\n",
    "                    if row == 5:\n",
    "                        print((np.sum(M[i]) - np.sum(M[j,]))*index)\n",
    "            \n",
    "                \n",
    "    \n",
    "    \n",
    "            \n"
   ]
  },
  {
   "cell_type": "code",
   "execution_count": 11,
   "metadata": {},
   "outputs": [],
   "source": [
    "M = np.array([[27,  5,  3, 62, 49],\n",
    "        [38, 88, 40,  9, 47],\n",
    "        [29, 59, 94, 74, 12],\n",
    "        [48, 73, 85, 97, 35],\n",
    "        [28, 25, 30, 14, 83]])"
   ]
  },
  {
   "cell_type": "code",
   "execution_count": 12,
   "metadata": {},
   "outputs": [
    {
     "data": {
      "text/plain": [
       "(array([1]),)"
      ]
     },
     "execution_count": 12,
     "metadata": {},
     "output_type": "execute_result"
    }
   ],
   "source": [
    "np.where(M[0,] == 5)"
   ]
  },
  {
   "cell_type": "code",
   "execution_count": 20,
   "metadata": {},
   "outputs": [
    {
     "data": {
      "text/plain": [
       "1154"
      ]
     },
     "execution_count": 20,
     "metadata": {},
     "output_type": "execute_result"
    }
   ],
   "source": [
    "np.sum(M)"
   ]
  },
  {
   "cell_type": "code",
   "execution_count": 14,
   "metadata": {},
   "outputs": [
    {
     "data": {
      "text/plain": [
       "array([[27, 38, 29, 48, 28],\n",
       "       [ 5, 88, 59, 73, 25],\n",
       "       [ 3, 40, 94, 85, 30],\n",
       "       [62,  9, 74, 97, 14],\n",
       "       [49, 47, 12, 35, 83]])"
      ]
     },
     "execution_count": 14,
     "metadata": {},
     "output_type": "execute_result"
    }
   ],
   "source": [
    "M.T"
   ]
  },
  {
   "cell_type": "code",
   "execution_count": 18,
   "metadata": {},
   "outputs": [
    {
     "data": {
      "text/plain": [
       "array([[-0.21250123, -0.11070012, -0.29975668,  0.36349084,  0.07819719],\n",
       "       [ 0.07454958,  0.05333029,  0.09527693, -0.11988122, -0.03743294],\n",
       "       [-0.03767819, -0.02232061, -0.02054297,  0.03871908,  0.02152588],\n",
       "       [ 0.06323849,  0.02514405,  0.07008518, -0.08199581, -0.02712801],\n",
       "       [ 0.05218436,  0.0251078 ,  0.06802844, -0.08667884, -0.00626123]])"
      ]
     },
     "execution_count": 18,
     "metadata": {},
     "output_type": "execute_result"
    }
   ],
   "source": [
    "np.linalg.inv(M).dot(np.identity(5))"
   ]
  },
  {
   "cell_type": "code",
   "execution_count": 19,
   "metadata": {},
   "outputs": [
    {
     "data": {
      "text/plain": [
       "389"
      ]
     },
     "execution_count": 19,
     "metadata": {},
     "output_type": "execute_result"
    }
   ],
   "source": [
    "np.trace(M)"
   ]
  }
 ],
 "metadata": {
  "kernelspec": {
   "display_name": "Python 3.9.7 ('base')",
   "language": "python",
   "name": "python3"
  },
  "language_info": {
   "codemirror_mode": {
    "name": "ipython",
    "version": 3
   },
   "file_extension": ".py",
   "mimetype": "text/x-python",
   "name": "python",
   "nbconvert_exporter": "python",
   "pygments_lexer": "ipython3",
   "version": "3.9.7"
  },
  "orig_nbformat": 4,
  "vscode": {
   "interpreter": {
    "hash": "40d3a090f54c6569ab1632332b64b2c03c39dcf918b08424e98f38b5ae0af88f"
   }
  }
 },
 "nbformat": 4,
 "nbformat_minor": 2
}
