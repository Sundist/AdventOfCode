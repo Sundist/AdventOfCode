{
 "cells": [
  {
   "cell_type": "code",
   "execution_count": 2,
   "metadata": {},
   "outputs": [],
   "source": [
    "# INPUT\n",
    "f = open('input.txt','r')\n",
    "\n",
    "import turtle\n",
    "f = f.read()"
   ]
  },
  {
   "cell_type": "code",
   "execution_count": 3,
   "metadata": {},
   "outputs": [],
   "source": [
    "pos = list()\n",
    "for i in f:\n",
    "    pos.append(turtle.pos())\n",
    "    if i == 'v':\n",
    "        turtle.setheading(180)\n",
    "        turtle.forward(2)\n",
    "        \n",
    "    elif i == '>':\n",
    "        turtle.setheading(90)\n",
    "        turtle.forward(2)\n",
    "    elif i == '<':\n",
    "        turtle.setheading(270)\n",
    "        turtle.forward(2)\n",
    "    elif i == '^':\n",
    "        turtle.setheading(0)\n",
    "        turtle.forward(2)\n",
    "    else:\n",
    "        pass\n",
    "    \n",
    "\n"
   ]
  },
  {
   "cell_type": "code",
   "execution_count": 16,
   "metadata": {},
   "outputs": [
    {
     "data": {
      "text/plain": [
       "(4744, 8192)"
      ]
     },
     "execution_count": 16,
     "metadata": {},
     "output_type": "execute_result"
    }
   ],
   "source": [
    "pos\n",
    "len(set(pos)),len(pos)"
   ]
  },
  {
   "cell_type": "code",
   "execution_count": null,
   "metadata": {},
   "outputs": [],
   "source": []
  }
 ],
 "metadata": {
  "kernelspec": {
   "display_name": "Python 3",
   "language": "python",
   "name": "python3"
  },
  "language_info": {
   "codemirror_mode": {
    "name": "ipython",
    "version": 3
   },
   "file_extension": ".py",
   "mimetype": "text/x-python",
   "name": "python",
   "nbconvert_exporter": "python",
   "pygments_lexer": "ipython3",
   "version": "3.10.11"
  },
  "orig_nbformat": 4
 },
 "nbformat": 4,
 "nbformat_minor": 2
}
